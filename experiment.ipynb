{
 "cells": [
  {
   "cell_type": "code",
   "execution_count": 1,
   "metadata": {},
   "outputs": [],
   "source": [
    "from structures import DoublyLinkedList, _Node"
   ]
  },
  {
   "cell_type": "code",
   "execution_count": 4,
   "metadata": {},
   "outputs": [],
   "source": [
    "\n",
    "ll = DoublyLinkedList(list(range(1000)))\n",
    "_Node(1).next"
   ]
  },
  {
   "cell_type": "code",
   "execution_count": 3,
   "metadata": {},
   "outputs": [],
   "source": [
    "ll = DoublyLinkedList(list(range(1000)))\n",
    "for i in range(1000):\n",
    "    del ll[0]\n",
    "assert len(ll) == 0 and str(ll) == \"DoublyLinkedList([])\"\n",
    "\n",
    "ll = DoublyLinkedList(list(range(1000)))\n",
    "for i in range(1000):\n",
    "    del ll[-1]\n",
    "assert len(ll) == 0 and str(ll) == \"DoublyLinkedList([])\"\n",
    "\n",
    "ll = DoublyLinkedList(list(range(1000)))\n",
    "for i in range(1000):\n",
    "    ll.pop_right()\n",
    "assert len(ll) == 0 and str(ll) == \"DoublyLinkedList([])\"\n",
    "\n",
    "ll = DoublyLinkedList(list(range(1000)))\n",
    "for i in range(1000):\n",
    "    ll.pop_left()\n",
    "assert len(ll) == 0 and str(ll) == \"DoublyLinkedList([])\"\n",
    "\n",
    "ll = DoublyLinkedList()\n",
    "for i in range(1000):\n",
    "    ll.insert(-1, i)\n",
    "ans = f\"DoublyLinkedList([1, {', '.join([str(num) for num in range(1000)])}])\"\n",
    "assert len(ll) == 1000, str(ll) == ans\n",
    "\n",
    "ll = DoublyLinkedList()\n",
    "for i in range(1000):\n",
    "    ll.insert(0, i)\n",
    "ans = f\"DoublyLinkedList([{', '.join([str(num) for num in range(1000)][::-1])}])\"\n",
    "assert len(ll) == 1000 and str(ll) == ans\n",
    "\n",
    "ll = DoublyLinkedList([1])\n",
    "for i in range(1000):\n",
    "    ll.insert(1, i)\n",
    "ans = f\"DoublyLinkedList([1, {', '.join([str(num) for num in range(1000)][::-1])}])\"\n",
    "assert len(ll) == 1001 and str(ll) == ans\n",
    "\n",
    "ll = DoublyLinkedList([1])\n",
    "for i in range(1000):\n",
    "    ll.add_left(i)\n",
    "    ll.pop_left()\n",
    "ans = f\"DoublyLinkedList([1])\"\n",
    "assert len(ll) == 1 and str(ll) == ans\n",
    "\n",
    "ll = DoublyLinkedList([1])\n",
    "for i in range(1000):\n",
    "    ll.add_right(i)\n",
    "    ll.pop_right()\n",
    "ans = f\"DoublyLinkedList([1])\"\n",
    "assert len(ll) == 1 and str(ll) == ans, str(ll)\n",
    "\n",
    "ll = DoublyLinkedList([1])\n",
    "for i in range(1000):\n",
    "    ll.add_right(i)\n",
    "    ll.pop_left()\n",
    "ans = f\"DoublyLinkedList([999])\"\n",
    "assert len(ll) == 1 and str(ll) == ans, str(ll)"
   ]
  },
  {
   "cell_type": "code",
   "execution_count": 4,
   "metadata": {},
   "outputs": [
    {
     "data": {
      "text/plain": [
       "DoublyLinkedList([])"
      ]
     },
     "execution_count": 4,
     "metadata": {},
     "output_type": "execute_result"
    }
   ],
   "source": [
    "ll.remove(0)\n",
    "ll"
   ]
  },
  {
   "cell_type": "code",
   "execution_count": 6,
   "metadata": {},
   "outputs": [
    {
     "ename": "AttributeError",
     "evalue": "'DoublyLinkedList' object has no attribute '__get_node'",
     "output_type": "error",
     "traceback": [
      "\u001b[1;31m---------------------------------------------------------------------------\u001b[0m",
      "\u001b[1;31mAttributeError\u001b[0m                            Traceback (most recent call last)",
      "Cell \u001b[1;32mIn[6], line 2\u001b[0m\n\u001b[0;32m      1\u001b[0m ll\u001b[38;5;241m.\u001b[39madd_right(\u001b[38;5;241m100\u001b[39m)\n\u001b[1;32m----> 2\u001b[0m \u001b[43mll\u001b[49m\u001b[38;5;241;43m.\u001b[39;49m\u001b[43m__get_node\u001b[49m(\u001b[38;5;241m0\u001b[39m)\n",
      "\u001b[1;31mAttributeError\u001b[0m: 'DoublyLinkedList' object has no attribute '__get_node'"
     ]
    }
   ],
   "source": [
    "ll.add_right(100)\n",
    "ll"
   ]
  },
  {
   "cell_type": "code",
   "execution_count": 24,
   "metadata": {},
   "outputs": [],
   "source": [
    "mil = 10_000_000\n",
    "ll = DoublyLinkedList(list(range(0, mil)))\n",
    "arr = list(range(0, mil))"
   ]
  },
  {
   "cell_type": "code",
   "execution_count": 45,
   "metadata": {},
   "outputs": [
    {
     "name": "stdout",
     "output_type": "stream",
     "text": [
      "13000\n"
     ]
    }
   ],
   "source": [
    "# print(len(ll))\n",
    "ll.add_left(13000)\n",
    "print(ll[0] )\n",
    "# print(len(ll))\n"
   ]
  },
  {
   "cell_type": "code",
   "execution_count": 8,
   "metadata": {},
   "outputs": [
    {
     "ename": "ValueError",
     "evalue": "-1 is not in list",
     "output_type": "error",
     "traceback": [
      "\u001b[1;31m---------------------------------------------------------------------------\u001b[0m",
      "\u001b[1;31mValueError\u001b[0m                                Traceback (most recent call last)",
      "Cell \u001b[1;32mIn[8], line 1\u001b[0m\n\u001b[1;32m----> 1\u001b[0m \u001b[43mll\u001b[49m\u001b[38;5;241;43m.\u001b[39;49m\u001b[43mindex\u001b[49m\u001b[43m(\u001b[49m\u001b[38;5;241;43m-\u001b[39;49m\u001b[38;5;241;43m1\u001b[39;49m\u001b[43m)\u001b[49m\n",
      "File \u001b[1;32md:\\yura\\docs\\code\\pyimpl\\structures.py:159\u001b[0m, in \u001b[0;36mDoublyLinkedList.index\u001b[1;34m(self, value)\u001b[0m\n\u001b[0;32m    157\u001b[0m     node \u001b[38;5;241m=\u001b[39m node\u001b[38;5;241m.\u001b[39mnext\n\u001b[0;32m    158\u001b[0m     i \u001b[38;5;241m+\u001b[39m\u001b[38;5;241m=\u001b[39m \u001b[38;5;241m1\u001b[39m\n\u001b[1;32m--> 159\u001b[0m \u001b[38;5;28;01mraise\u001b[39;00m \u001b[38;5;167;01mValueError\u001b[39;00m(\u001b[38;5;124mf\u001b[39m\u001b[38;5;124m\"\u001b[39m\u001b[38;5;132;01m{\u001b[39;00mvalue\u001b[38;5;132;01m}\u001b[39;00m\u001b[38;5;124m is not in list\u001b[39m\u001b[38;5;124m\"\u001b[39m)\n",
      "\u001b[1;31mValueError\u001b[0m: -1 is not in list"
     ]
    }
   ],
   "source": [
    "\n",
    "ll.index(-1)"
   ]
  },
  {
   "cell_type": "code",
   "execution_count": null,
   "metadata": {},
   "outputs": [],
   "source": []
  }
 ],
 "metadata": {
  "kernelspec": {
   "display_name": "efficientdet",
   "language": "python",
   "name": "python3"
  },
  "language_info": {
   "codemirror_mode": {
    "name": "ipython",
    "version": 3
   },
   "file_extension": ".py",
   "mimetype": "text/x-python",
   "name": "python",
   "nbconvert_exporter": "python",
   "pygments_lexer": "ipython3",
   "version": "3.9.19"
  }
 },
 "nbformat": 4,
 "nbformat_minor": 2
}
